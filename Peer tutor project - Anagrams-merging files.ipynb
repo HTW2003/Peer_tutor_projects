{
 "cells": [
  {
   "cell_type": "code",
   "execution_count": 1,
   "metadata": {},
   "outputs": [],
   "source": [
    "#analyzing and identifying anagrams\n",
    "#anagrams have the same number of the same letters"
   ]
  },
  {
   "cell_type": "code",
   "execution_count": 2,
   "metadata": {},
   "outputs": [],
   "source": [
    "#loading in a dictionary file from Impractical Python\n",
    "\n",
    "import sys #need so that the error handling code will work\n",
    "#will be modified later(will not need try, except, and sys.exit)\n",
    "def load(file):\n",
    "    #Open a text file & turn contents into a list of lowercase strings.\n",
    "    try:\n",
    "        with open(file) as in_file:\n",
    "            loaded_txt = in_file.read().strip().split('\\n') #items in file are split and added to a list\n",
    "            loaded_txt = [x.lower() for x in loaded_txt] #converted to lowercase\n",
    "            return loaded_txt\n",
    "    except IOError as e:\n",
    "        print(\"{}\\nError opening {}. Terminating program.\".format(e, file),\n",
    "              file=sys.stderr)\n",
    "        sys.exit(1) #terminates the program\n",
    "\n",
    "first =load(\"2of12inf.txt\")\n",
    "second =load(\"2of12.txt\")\n",
    "third =load(\"3esl.txt\")\n",
    "forth =load(\"6of12.txt\")\n",
    "fifth = load(\"2of4brif.txt\")\n",
    "sixth = load(\"3of6all.txt\")\n",
    "seventh = load(\"3of6game.txt\")\n",
    "eighth = load(\"5d+2a.txt\")\n",
    "ninth = load(\"words.txt\")"
   ]
  },
  {
   "cell_type": "code",
   "execution_count": null,
   "metadata": {},
   "outputs": [
    {
     "name": "stdout",
     "output_type": "stream",
     "text": [
      "['s', 't', 'o', 'p']\n",
      "['p', 'o', 't', 's']\n",
      "['o', 'p', 's', 't']\n",
      "['o', 'p', 's', 't']\n"
     ]
    },
    {
     "data": {
      "text/plain": [
       "True"
      ]
     },
     "execution_count": 3,
     "metadata": {},
     "output_type": "execute_result"
    }
   ],
   "source": [
    "#test cell\n",
    "word = list(\"stop\")\n",
    "print(word)\n",
    "anagram = list(\"pots\")\n",
    "print(anagram)\n",
    "\n",
    "#the above code will not be considered == b/c they are not in the same order\n",
    "#use sorted() -> sort list in alphabetical order \n",
    "\n",
    "word = sorted(word)\n",
    "print(word)\n",
    "anagram = sorted(anagram)\n",
    "print(anagram)\n",
    "word == anagram\n",
    "\n",
    "#this is a way you can identify an anagram"
   ]
  },
  {
   "cell_type": "code",
   "execution_count": null,
   "metadata": {},
   "outputs": [],
   "source": [
    "word_list = first +second +third +forth +fifth +sixth +seventh +eighth +ninth#add all lists together\n",
    "word_list = list(set(word_list)) #get rid of duplicates\n",
    "#print(word_list)\n",
    "\n",
    "anagram_list = [] #to hold any anagrams found\n",
    "\n",
    "#word selected by the user\n",
    "entered_word = input(\"\").lower()\n",
    "#print(entered_word)\n",
    "'''entered_word = entered_word.lower()\n",
    "print(entered_word)'''\n",
    "\n",
    "entered_word = sorted(entered_word)\n",
    "for word in word_list:\n",
    "    word = word.lower()\n",
    "    if word != entered_word:\n",
    "        if sorted(word) == sorted(entered_word):\n",
    "            anagram_list.append(word)\n",
    "            \n",
    "print(anagram_list)\n",
    "if len(anagram_list) == 0:\n",
    "    print(\"You need a larger dictionary or you need to enter a new word!\")\n",
    "else:\n",
    "    print(\"Anagrams =\", *anagram_list, sep='\\n') # * is the splat operator -> prints each item on a seperate line"
   ]
  },
  {
   "cell_type": "code",
   "execution_count": null,
   "metadata": {},
   "outputs": [],
   "source": []
  }
 ],
 "metadata": {
  "kernelspec": {
   "display_name": "Python 3",
   "language": "python",
   "name": "python3"
  },
  "language_info": {
   "codemirror_mode": {
    "name": "ipython",
    "version": 3
   },
   "file_extension": ".py",
   "mimetype": "text/x-python",
   "name": "python",
   "nbconvert_exporter": "python",
   "pygments_lexer": "ipython3",
   "version": "3.6.4"
  }
 },
 "nbformat": 4,
 "nbformat_minor": 2
}
